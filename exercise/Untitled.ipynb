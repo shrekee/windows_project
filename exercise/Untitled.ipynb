{
 "cells": [
  {
   "cell_type": "code",
   "execution_count": 1,
   "metadata": {},
   "outputs": [
    {
     "name": "stdout",
     "output_type": "stream",
     "text": [
      "haha\n",
      "haha\n",
      "haha\n",
      "haha\n",
      "haha\n",
      "haha\n",
      "haha\n",
      "haha\n",
      "haha\n",
      "haha\n"
     ]
    }
   ],
   "source": [
    "for i in range(10):\n",
    "    print('haha')"
   ]
  },
  {
   "cell_type": "code",
   "execution_count": 2,
   "metadata": {},
   "outputs": [
    {
     "name": "stdout",
     "output_type": "stream",
     "text": [
      "lwq male\n"
     ]
    }
   ],
   "source": [
    "class Myclass(object):\n",
    "    gender = \"male\"\n",
    "    def __init__(self,who):\n",
    "        self.name = who\n",
    "    def showInfo(self):\n",
    "        print(self.name,self.gender)\n",
    "my = Myclass('lwq')\n",
    "my.showInfo()"
   ]
  },
  {
   "cell_type": "code",
   "execution_count": 3,
   "metadata": {},
   "outputs": [
    {
     "ename": "SyntaxError",
     "evalue": "invalid syntax (<ipython-input-3-59ce3e9f72d1>, line 5)",
     "output_type": "error",
     "traceback": [
      "\u001b[1;36m  File \u001b[1;32m\"<ipython-input-3-59ce3e9f72d1>\"\u001b[1;36m, line \u001b[1;32m5\u001b[0m\n\u001b[1;33m    def get_gender(self)\u001b[0m\n\u001b[1;37m                        ^\u001b[0m\n\u001b[1;31mSyntaxError\u001b[0m\u001b[1;31m:\u001b[0m invalid syntax\n"
     ]
    }
   ],
   "source": [
    "class MyClass(object):\n",
    "    __gender = 'male'\n",
    "    def __init__(self,who):\n",
    "        self.__name = who\n",
    "    def get_gender(self)\n",
    "        print(self.__gender)\n",
    "    def set_gender(self,gender):\n",
    "        self.__gender = gender\n",
    "        \n",
    "xx = MyClass('mei')\n",
    "xx.get_gender()\n",
    "xx.set_gender('female')\n",
    "xx.get_gender()"
   ]
  },
  {
   "cell_type": "code",
   "execution_count": 4,
   "metadata": {},
   "outputs": [
    {
     "name": "stdout",
     "output_type": "stream",
     "text": [
      "male\n",
      "female\n"
     ]
    }
   ],
   "source": [
    "class MyClass(object):\n",
    "    __gender = 'male'\n",
    "    def __init__(self,who):\n",
    "        self.__name = who\n",
    "    def get_gender(self):\n",
    "        print(self.__gender)\n",
    "    def set_gender(self,gender):\n",
    "        self.__gender = gender\n",
    "        \n",
    "xx = MyClass('mei')\n",
    "xx.get_gender()\n",
    "xx.set_gender('female')\n",
    "xx.get_gender()"
   ]
  },
  {
   "cell_type": "code",
   "execution_count": null,
   "metadata": {},
   "outputs": [],
   "source": []
  }
 ],
 "metadata": {
  "kernelspec": {
   "display_name": "Python 3",
   "language": "python",
   "name": "python3"
  },
  "language_info": {
   "codemirror_mode": {
    "name": "ipython",
    "version": 3
   },
   "file_extension": ".py",
   "mimetype": "text/x-python",
   "name": "python",
   "nbconvert_exporter": "python",
   "pygments_lexer": "ipython3",
   "version": "3.6.6"
  }
 },
 "nbformat": 4,
 "nbformat_minor": 2
}
